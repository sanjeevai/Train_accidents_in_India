{
 "cells": [
  {
   "cell_type": "markdown",
   "metadata": {},
   "source": [
    "## Train Accidents in India\n",
    "\n",
    "## Table of Contents\n",
    "1. [Abstract](#abs)\n",
    "2. [Introduction](#intro)\n",
    "3. [Collecting data](#cdata)\n",
    "4. [Data Pre-Processing](#dprep)\n",
    "5. [Feature Engineering](#feng)\n",
    "6. [Feature Selection](#fsel)\n",
    "7. [Exploratory Data Analysis](#eda)\n",
    "8. [Answers](#ans)\n",
    "9. [Conclusion](#conc)\n",
    "10. [Abbreviations used](#abb)\n",
    "11. [References](#refs)\n",
    "\n",
    "<a id='abs'></a>\n",
    "## 1. Abstract\n",
    "\n",
    "Train is the most common mode of travel for long distance journey in India. This year India has seen major accidents in railways due to several factors including natural causes and human error. We have tried to study the causes of train accidents for year 2002-2017, and other factors which trigger train accidents in different parts of the country. This report includes major accidents till 2017 which impacted the customer experience or say made it unsafe to travel in train.\n",
    "\n",
    "*Keywords:* Train accidents; inferential statistics; data visualisation; ggplot2\n",
    "\n",
    "<a id='intro'></a>\n",
    "# 2. Introduction\n",
    "\n",
    "Data was collected from various news websites, online news archives, Wikipedia articles[1], etc. Data was available on the internet from year 1890-2017 but analysis is carried out for 2002- 2017 because news reports on many old incidents needed citations and some of them were reported in less detail on news websites. To cover major features affecting the accident rate in India and to closely compare them, 2002-2017 year range provided enough observations (114) to make some statistical conclusion. First, let's perform some preliminary steps of data wrangling to convert our data to tidy form.\n",
    "\n",
    "<a id='cdata'></a>\n",
    "# 3. Collecting data\n",
    "\n",
    "Data was collected from online news archives[2] and converted to tidy form. Here is a preview of top few rows of data set:"
   ]
  },
  {
   "cell_type": "code",
   "execution_count": 108,
   "metadata": {},
   "outputs": [
    {
     "data": {
      "text/html": [
       "<div>\n",
       "<style scoped>\n",
       "    .dataframe tbody tr th:only-of-type {\n",
       "        vertical-align: middle;\n",
       "    }\n",
       "\n",
       "    .dataframe tbody tr th {\n",
       "        vertical-align: top;\n",
       "    }\n",
       "\n",
       "    .dataframe thead th {\n",
       "        text-align: right;\n",
       "    }\n",
       "</style>\n",
       "<table border=\"1\" class=\"dataframe\">\n",
       "  <thead>\n",
       "    <tr style=\"text-align: right;\">\n",
       "      <th></th>\n",
       "      <th>X</th>\n",
       "      <th>environment</th>\n",
       "      <th>train_name</th>\n",
       "      <th>injured</th>\n",
       "      <th>killed</th>\n",
       "      <th>triggering_factor</th>\n",
       "      <th>time</th>\n",
       "      <th>railway_division</th>\n",
       "      <th>cause</th>\n",
       "      <th>env</th>\n",
       "    </tr>\n",
       "  </thead>\n",
       "  <tbody>\n",
       "    <tr>\n",
       "      <th>0</th>\n",
       "      <td>1</td>\n",
       "      <td>open rail track|over 2000 attackers</td>\n",
       "      <td>Sabarmati Express</td>\n",
       "      <td>43.0</td>\n",
       "      <td>58.0</td>\n",
       "      <td>attack by a mob at Godhra station in Gujarat a...</td>\n",
       "      <td>27-02-2002 08:30</td>\n",
       "      <td>w</td>\n",
       "      <td>attack</td>\n",
       "      <td>open</td>\n",
       "    </tr>\n",
       "    <tr>\n",
       "      <th>1</th>\n",
       "      <td>2</td>\n",
       "      <td>open rail track</td>\n",
       "      <td>Shramjeevi Express</td>\n",
       "      <td>80.0</td>\n",
       "      <td>12.0</td>\n",
       "      <td>crash occurred when sabotage derailed the Shr...</td>\n",
       "      <td>13-05-2002 03:00</td>\n",
       "      <td>n</td>\n",
       "      <td>attack</td>\n",
       "      <td>open</td>\n",
       "    </tr>\n",
       "    <tr>\n",
       "      <th>2</th>\n",
       "      <td>3</td>\n",
       "      <td>collision on a manned level crossing</td>\n",
       "      <td>Kanpur Kasganj Express</td>\n",
       "      <td>29.0</td>\n",
       "      <td>49.0</td>\n",
       "      <td>Express collided with a passenger bus near the...</td>\n",
       "      <td>04-06-2002 13:00</td>\n",
       "      <td>ne</td>\n",
       "      <td>unclear track</td>\n",
       "      <td>busy</td>\n",
       "    </tr>\n",
       "    <tr>\n",
       "      <th>3</th>\n",
       "      <td>4</td>\n",
       "      <td>natural on a bridge over Dhave river</td>\n",
       "      <td>Howrah-Rajdhani Express</td>\n",
       "      <td>150.0</td>\n",
       "      <td>140.0</td>\n",
       "      <td>derailed on a bridge between Gaya and Dehri-on...</td>\n",
       "      <td>09-09-2002 22:40</td>\n",
       "      <td>ec</td>\n",
       "      <td>attack</td>\n",
       "      <td>water</td>\n",
       "    </tr>\n",
       "    <tr>\n",
       "      <th>4</th>\n",
       "      <td>5</td>\n",
       "      <td>open rail track</td>\n",
       "      <td>Golden Temple Mail</td>\n",
       "      <td>15.0</td>\n",
       "      <td>36.0</td>\n",
       "      <td>three coaches caught fire</td>\n",
       "      <td>15-05-2003 03:15</td>\n",
       "      <td>n</td>\n",
       "      <td>fire</td>\n",
       "      <td>open</td>\n",
       "    </tr>\n",
       "  </tbody>\n",
       "</table>\n",
       "</div>"
      ],
      "text/plain": [
       "   X                           environment               train_name  injured  \\\n",
       "0  1   open rail track|over 2000 attackers        Sabarmati Express     43.0   \n",
       "1  2                       open rail track       Shramjeevi Express     80.0   \n",
       "2  3  collision on a manned level crossing   Kanpur Kasganj Express     29.0   \n",
       "3  4  natural on a bridge over Dhave river  Howrah-Rajdhani Express    150.0   \n",
       "4  5                       open rail track       Golden Temple Mail     15.0   \n",
       "\n",
       "   killed                                  triggering_factor  \\\n",
       "0    58.0  attack by a mob at Godhra station in Gujarat a...   \n",
       "1    12.0   crash occurred when sabotage derailed the Shr...   \n",
       "2    49.0  Express collided with a passenger bus near the...   \n",
       "3   140.0  derailed on a bridge between Gaya and Dehri-on...   \n",
       "4    36.0                          three coaches caught fire   \n",
       "\n",
       "               time railway_division          cause    env  \n",
       "0  27-02-2002 08:30                w         attack   open  \n",
       "1  13-05-2002 03:00                n         attack   open  \n",
       "2  04-06-2002 13:00               ne  unclear track   busy  \n",
       "3  09-09-2002 22:40               ec         attack  water  \n",
       "4  15-05-2003 03:15                n           fire   open  "
      ]
     },
     "execution_count": 108,
     "metadata": {},
     "output_type": "execute_result"
    }
   ],
   "source": [
    "# import packages\n",
    "import pandas as pd\n",
    "import numpy as np\n",
    "import datetime as dt\n",
    "import matplotlib.pyplot as plt\n",
    "%matplotlib inline\n",
    "from scipy.stats import chi2_contingency\n",
    "import seaborn as sns\n",
    "sns.set_palette('Set1')\n",
    "\n",
    "# hide warnings\n",
    "import warnings\n",
    "warnings.filterwarnings('ignore')\n",
    "\n",
    "\n",
    "# setting parameters\n",
    "plt.style.use('ggplot')\n",
    "plt.rcParams['figure.figsize'] = (12, 6) # default plot size\n",
    "plt.rcParams['legend.loc'] = 'upper right' # default location of legend\n",
    "\n",
    "# plt.legend(title = 'hour', loc='upper right');\n",
    "\n",
    "\n",
    "df = pd.read_csv(\"DoMS_2.5.2.csv\")\n",
    "df.head()"
   ]
  },
  {
   "cell_type": "markdown",
   "metadata": {},
   "source": [
    "In order to generate useful results this dataset needs to be in structured format. `Environment` column contains entries which are in sentence form. First we will check for data types and then use some of the descriptive columns to create factor variables.\n",
    "\n",
    "<a id='dprep'></a>\n",
    "## 4. Data pre-processing\n",
    "\n",
    "Checking for data types:"
   ]
  },
  {
   "cell_type": "code",
   "execution_count": 109,
   "metadata": {},
   "outputs": [
    {
     "name": "stdout",
     "output_type": "stream",
     "text": [
      "<class 'pandas.core.frame.DataFrame'>\n",
      "RangeIndex: 114 entries, 0 to 113\n",
      "Data columns (total 10 columns):\n",
      "X                    114 non-null int64\n",
      "environment          106 non-null object\n",
      "train_name           114 non-null object\n",
      "injured              110 non-null float64\n",
      "killed               111 non-null float64\n",
      "triggering_factor    89 non-null object\n",
      "time                 114 non-null object\n",
      "railway_division     114 non-null object\n",
      "cause                114 non-null object\n",
      "env                  114 non-null object\n",
      "dtypes: float64(2), int64(1), object(7)\n",
      "memory usage: 9.0+ KB\n"
     ]
    }
   ],
   "source": [
    "df.info()"
   ]
  },
  {
   "cell_type": "markdown",
   "metadata": {},
   "source": [
    "Data types for all variables are correct except `time` column. `Time` column needs to be a datetime object. Converting time column to datetime object:"
   ]
  },
  {
   "cell_type": "code",
   "execution_count": 110,
   "metadata": {},
   "outputs": [],
   "source": [
    "df['time'] = pd.to_datetime(df['time'])"
   ]
  },
  {
   "cell_type": "markdown",
   "metadata": {},
   "source": [
    "Verifying:"
   ]
  },
  {
   "cell_type": "code",
   "execution_count": 111,
   "metadata": {},
   "outputs": [
    {
     "name": "stdout",
     "output_type": "stream",
     "text": [
      "<class 'pandas.core.frame.DataFrame'>\n",
      "RangeIndex: 114 entries, 0 to 113\n",
      "Data columns (total 10 columns):\n",
      "X                    114 non-null int64\n",
      "environment          106 non-null object\n",
      "train_name           114 non-null object\n",
      "injured              110 non-null float64\n",
      "killed               111 non-null float64\n",
      "triggering_factor    89 non-null object\n",
      "time                 114 non-null datetime64[ns]\n",
      "railway_division     114 non-null object\n",
      "cause                114 non-null object\n",
      "env                  114 non-null object\n",
      "dtypes: datetime64[ns](1), float64(2), int64(1), object(6)\n",
      "memory usage: 9.0+ KB\n"
     ]
    }
   ],
   "source": [
    "df.info()"
   ]
  },
  {
   "cell_type": "markdown",
   "metadata": {},
   "source": [
    "<a id='feng'></a>\n",
    "## 5. Feature engineering\n",
    "\n",
    "Data type correction being done, next we will create some new columns from the existing ones to create meaningful visualisations.\n",
    "\n",
    "### **5.1.** Hour, daytime and season\n",
    "\n",
    "`Time` column will be helpful in creating these columns:\n",
    "\n",
    "#### 5.1.1. Hour\n",
    "\n",
    "Creating hour column:"
   ]
  },
  {
   "cell_type": "code",
   "execution_count": 112,
   "metadata": {},
   "outputs": [],
   "source": [
    "df['hour'] = df['time'].dt.hour"
   ]
  },
  {
   "cell_type": "code",
   "execution_count": 113,
   "metadata": {},
   "outputs": [
    {
     "data": {
      "text/plain": [
       "array([ 8,  3, 13, 22,  5, 11, 17, 21,  4, 18, 23,  2, 19,  1,  9,  6, 16,\n",
       "       12, 20,  7, 14,  0])"
      ]
     },
     "execution_count": 113,
     "metadata": {},
     "output_type": "execute_result"
    }
   ],
   "source": [
    "df.hour.unique()"
   ]
  },
  {
   "cell_type": "markdown",
   "metadata": {},
   "source": [
    "For comparing accident trends over a single day, only the hour column is not sufficient. It will produce numerical values with 24 levels to consider for each day.\n",
    "\n",
    "It is better to divide each day in interval of 6 hours to better compare accidents over a single day. These time intervals are chosen to see the effect of visibility on accident.\n",
    "\n",
    "#### 5.1.2. Daytime\n",
    "\n",
    "Creating daytime column:"
   ]
  },
  {
   "cell_type": "code",
   "execution_count": 114,
   "metadata": {},
   "outputs": [],
   "source": [
    "df['daytime'] = pd.cut(df['hour'], [0,6,12,18,24])"
   ]
  },
  {
   "cell_type": "code",
   "execution_count": 115,
   "metadata": {},
   "outputs": [],
   "source": [
    "df['daytime'] = df['daytime'].astype(str)"
   ]
  },
  {
   "cell_type": "code",
   "execution_count": 116,
   "metadata": {},
   "outputs": [
    {
     "data": {
      "text/plain": [
       "(0, 6]      47\n",
       "(6, 12]     26\n",
       "(18, 24]    25\n",
       "(12, 18]    14\n",
       "nan          2\n",
       "Name: daytime, dtype: int64"
      ]
     },
     "execution_count": 116,
     "metadata": {},
     "output_type": "execute_result"
    }
   ],
   "source": [
    "df.daytime.value_counts()"
   ]
  },
  {
   "cell_type": "markdown",
   "metadata": {},
   "source": [
    "This feature will be helpful in studying the daily trends in accident.\n",
    "\n",
    "#### 5.1.3. Season\n",
    "\n",
    "Creating season column:"
   ]
  },
  {
   "cell_type": "code",
   "execution_count": 117,
   "metadata": {},
   "outputs": [
    {
     "data": {
      "text/plain": [
       "winter     39\n",
       "summer     29\n",
       "monsoon    27\n",
       "autumn     19\n",
       "Name: season, dtype: int64"
      ]
     },
     "execution_count": 117,
     "metadata": {},
     "output_type": "execute_result"
    }
   ],
   "source": [
    "seasons = []\n",
    "\n",
    "for i in df[\"time\"]:\n",
    "    if i.month in range(4,7):\n",
    "        seasons.append(\"summer\")\n",
    "    elif i.month in range(7,10):\n",
    "        seasons.append(\"monsoon\")\n",
    "    elif i.month in range(10,12):\n",
    "        seasons.append(\"autumn\")\n",
    "    else:\n",
    "        seasons.append(\"winter\")\n",
    "\n",
    "df[\"season\"] = seasons\n",
    "df[\"season\"].value_counts()"
   ]
  },
  {
   "cell_type": "markdown",
   "metadata": {},
   "source": [
    "The month value used as boundary condition for any two consecutive season is just for convenience to create `season` column effectively with code. These intervals are taken from Wikipedia article on **Climate of India**[3].\n",
    "\n",
    "\n",
    "### 5.2.  Type of train\n",
    "\n",
    "`train_name` column is just a label and will not help in studying accidents. It will be difficult to study number of accidents for each and every train. Instead, we will create a new column which will show type of train involved in accident, like express, passenger, freight, etc.\n",
    "\n",
    "Creating `train_type` column:"
   ]
  },
  {
   "cell_type": "code",
   "execution_count": 118,
   "metadata": {},
   "outputs": [],
   "source": [
    "TRAIN_TYPES = [\"Express\", \"Passenger\", \"Freight\", \"Mail\", \"others\"]\n",
    "train_type = []\n",
    "\n",
    "for i in df['train_name']: \n",
    "    for t_type in TRAIN_TYPES: \n",
    "        if t_type in i: # check the train type\n",
    "            train_type.append(t_type)\n",
    "\n",
    "df['train_type'] = train_type"
   ]
  },
  {
   "cell_type": "code",
   "execution_count": 119,
   "metadata": {},
   "outputs": [
    {
     "data": {
      "text/plain": [
       "Express      76\n",
       "others       12\n",
       "Passenger    12\n",
       "Freight      10\n",
       "Mail          4\n",
       "Name: train_type, dtype: int64"
      ]
     },
     "execution_count": 119,
     "metadata": {},
     "output_type": "execute_result"
    }
   ],
   "source": [
    "df['train_type'].value_counts()"
   ]
  },
  {
   "cell_type": "markdown",
   "metadata": {},
   "source": [
    "### 5.3. Country region\n",
    "\n",
    "Now we have `railway_division` column. 17 values for railway division column are too much and will make our graph look messy. Categorising them into North, South, East, West and Central will make our study simple. For example, n, nc, ne, nef, nw (abbreviations are provided at the end of report) will go in North area, and similarly for other regions.\n",
    "\n",
    "Creating **region** column:"
   ]
  },
  {
   "cell_type": "code",
   "execution_count": 120,
   "metadata": {},
   "outputs": [
    {
     "data": {
      "text/plain": [
       "North      52\n",
       "South      28\n",
       "East       15\n",
       "Central    10\n",
       "West        9\n",
       "Name: region, dtype: int64"
      ]
     },
     "execution_count": 120,
     "metadata": {},
     "output_type": "execute_result"
    }
   ],
   "source": [
    "reg = []\n",
    "\n",
    "for div in df['railway_division']:\n",
    "    if div in ['n', 'nc', 'ne', 'nef', 'nw']: # North divison\n",
    "        reg.append('North')\n",
    "    elif div in ['s', 'sc', 'se', 'sw']: # South\n",
    "        reg.append('South')\n",
    "    elif div in ['e', 'ec', 'eco']: # East\n",
    "        reg.append('East')\n",
    "    elif div in ['c']: # Central\n",
    "        reg.append(\"Central\")\n",
    "    else: # West\n",
    "        reg.append(\"West\")\n",
    "        \n",
    "df['region'] = reg\n",
    "df['region'].value_counts()"
   ]
  },
  {
   "cell_type": "markdown",
   "metadata": {},
   "source": [
    "<a id='fsel'></a>\n",
    "## 6. Feature selection\n",
    "\n",
    "Next part is including relevant features for visualisation purpose.\n",
    "We have 15 variables in our data."
   ]
  },
  {
   "cell_type": "code",
   "execution_count": 121,
   "metadata": {},
   "outputs": [
    {
     "data": {
      "text/plain": [
       "15"
      ]
     },
     "execution_count": 121,
     "metadata": {},
     "output_type": "execute_result"
    }
   ],
   "source": [
    "df.shape[1]"
   ]
  },
  {
   "cell_type": "code",
   "execution_count": 122,
   "metadata": {},
   "outputs": [
    {
     "data": {
      "text/plain": [
       "Index(['X', 'environment', 'train_name', 'injured', 'killed',\n",
       "       'triggering_factor', 'time', 'railway_division', 'cause', 'env', 'hour',\n",
       "       'daytime', 'season', 'train_type', 'region'],\n",
       "      dtype='object')"
      ]
     },
     "execution_count": 122,
     "metadata": {},
     "output_type": "execute_result"
    }
   ],
   "source": [
    "df.columns"
   ]
  },
  {
   "cell_type": "markdown",
   "metadata": {},
   "source": [
    "We are removing columns which are not important for analysis. We are removing these columns due to the following reasons:\n",
    "\n",
    "* they are not in a structured format.\n",
    "\n",
    "* some of them were in complex form and new derived columns are used instead.\n",
    "\n",
    "The columns which are to be removed are:\n",
    "\n",
    "### 6.1. Environment\n",
    "\n",
    "`Environment` column is descriptive in nature, `env` column is more specific in describing the environment of accident spot, like open area, level-crossing, etc.\n",
    "\n",
    "### 6.2. Train_name\n",
    "\n",
    "Too many distinct values are there for this variable. This was used to create `train_type` column previously.\n",
    " \n",
    "### 6.3. Triggering_factor\n",
    "\n",
    "This one is also descriptive in nature and `cause` column shows the specific cause, like human error, technical fault, etc.\n",
    "\n",
    "Removing the above mentioned columns:"
   ]
  },
  {
   "cell_type": "code",
   "execution_count": 123,
   "metadata": {},
   "outputs": [],
   "source": [
    "df.drop(['environment', 'triggering_factor', 'train_name', 'X'], axis = 1, inplace = True)"
   ]
  },
  {
   "cell_type": "code",
   "execution_count": 124,
   "metadata": {},
   "outputs": [
    {
     "data": {
      "text/html": [
       "<div>\n",
       "<style scoped>\n",
       "    .dataframe tbody tr th:only-of-type {\n",
       "        vertical-align: middle;\n",
       "    }\n",
       "\n",
       "    .dataframe tbody tr th {\n",
       "        vertical-align: top;\n",
       "    }\n",
       "\n",
       "    .dataframe thead th {\n",
       "        text-align: right;\n",
       "    }\n",
       "</style>\n",
       "<table border=\"1\" class=\"dataframe\">\n",
       "  <thead>\n",
       "    <tr style=\"text-align: right;\">\n",
       "      <th></th>\n",
       "      <th>injured</th>\n",
       "      <th>killed</th>\n",
       "      <th>time</th>\n",
       "      <th>railway_division</th>\n",
       "      <th>cause</th>\n",
       "      <th>env</th>\n",
       "      <th>hour</th>\n",
       "      <th>daytime</th>\n",
       "      <th>season</th>\n",
       "      <th>train_type</th>\n",
       "      <th>region</th>\n",
       "    </tr>\n",
       "  </thead>\n",
       "  <tbody>\n",
       "    <tr>\n",
       "      <th>0</th>\n",
       "      <td>43.0</td>\n",
       "      <td>58.0</td>\n",
       "      <td>2002-02-27 08:30:00</td>\n",
       "      <td>w</td>\n",
       "      <td>attack</td>\n",
       "      <td>open</td>\n",
       "      <td>8</td>\n",
       "      <td>(6, 12]</td>\n",
       "      <td>winter</td>\n",
       "      <td>Express</td>\n",
       "      <td>West</td>\n",
       "    </tr>\n",
       "    <tr>\n",
       "      <th>1</th>\n",
       "      <td>80.0</td>\n",
       "      <td>12.0</td>\n",
       "      <td>2002-05-13 03:00:00</td>\n",
       "      <td>n</td>\n",
       "      <td>attack</td>\n",
       "      <td>open</td>\n",
       "      <td>3</td>\n",
       "      <td>(0, 6]</td>\n",
       "      <td>summer</td>\n",
       "      <td>Express</td>\n",
       "      <td>North</td>\n",
       "    </tr>\n",
       "    <tr>\n",
       "      <th>2</th>\n",
       "      <td>29.0</td>\n",
       "      <td>49.0</td>\n",
       "      <td>2002-04-06 13:00:00</td>\n",
       "      <td>ne</td>\n",
       "      <td>unclear track</td>\n",
       "      <td>busy</td>\n",
       "      <td>13</td>\n",
       "      <td>(12, 18]</td>\n",
       "      <td>summer</td>\n",
       "      <td>Express</td>\n",
       "      <td>North</td>\n",
       "    </tr>\n",
       "    <tr>\n",
       "      <th>3</th>\n",
       "      <td>150.0</td>\n",
       "      <td>140.0</td>\n",
       "      <td>2002-09-09 22:40:00</td>\n",
       "      <td>ec</td>\n",
       "      <td>attack</td>\n",
       "      <td>water</td>\n",
       "      <td>22</td>\n",
       "      <td>(18, 24]</td>\n",
       "      <td>monsoon</td>\n",
       "      <td>Express</td>\n",
       "      <td>East</td>\n",
       "    </tr>\n",
       "    <tr>\n",
       "      <th>4</th>\n",
       "      <td>15.0</td>\n",
       "      <td>36.0</td>\n",
       "      <td>2003-05-15 03:15:00</td>\n",
       "      <td>n</td>\n",
       "      <td>fire</td>\n",
       "      <td>open</td>\n",
       "      <td>3</td>\n",
       "      <td>(0, 6]</td>\n",
       "      <td>summer</td>\n",
       "      <td>Mail</td>\n",
       "      <td>North</td>\n",
       "    </tr>\n",
       "  </tbody>\n",
       "</table>\n",
       "</div>"
      ],
      "text/plain": [
       "   injured  killed                time railway_division          cause    env  \\\n",
       "0     43.0    58.0 2002-02-27 08:30:00                w         attack   open   \n",
       "1     80.0    12.0 2002-05-13 03:00:00                n         attack   open   \n",
       "2     29.0    49.0 2002-04-06 13:00:00               ne  unclear track   busy   \n",
       "3    150.0   140.0 2002-09-09 22:40:00               ec         attack  water   \n",
       "4     15.0    36.0 2003-05-15 03:15:00                n           fire   open   \n",
       "\n",
       "   hour   daytime   season train_type region  \n",
       "0     8   (6, 12]   winter    Express   West  \n",
       "1     3    (0, 6]   summer    Express  North  \n",
       "2    13  (12, 18]   summer    Express  North  \n",
       "3    22  (18, 24]  monsoon    Express   East  \n",
       "4     3    (0, 6]   summer       Mail  North  "
      ]
     },
     "execution_count": 124,
     "metadata": {},
     "output_type": "execute_result"
    }
   ],
   "source": [
    "df.head()"
   ]
  },
  {
   "cell_type": "markdown",
   "metadata": {},
   "source": [
    "We have done these tasks till now :\n",
    "\n",
    "* Correcting data types\n",
    "\n",
    "* Creating useful columns from the given ones\n",
    "\n",
    "* Removing columns that are not important for analysis\n",
    "\n",
    "Next part is generating bivariate and multivariate plots to derive a conclusion about year by year trends."
   ]
  },
  {
   "cell_type": "markdown",
   "metadata": {},
   "source": [
    "<a id='eda'></a>\n",
    "## 7. Exploratory data analysis\n",
    "\n",
    "After correcting data types and performing feature extraction on the data set, next part is creating visualisations to get insights about what are the major causes of accidents, where they are more frequent and many more features which show different frequency of accidents.\n",
    "\n",
    "We will use this data to answer the following questions:\n",
    "\n",
    "**Q1.** On which time of day more accidents are happening? Does visibility play a major role in accidents?\n",
    "\n",
    "**Q2.** In which season accidents are more frequent?\n",
    "\n",
    "**Q3.** Which region of the country has experienced more accidents?\n",
    "\n",
    "**Q4.** What is the environment of accident spot (like open area, flood affected area or bad track?\n",
    "\n",
    "**Q5.** Which type of trains suffer more accidents(express, passenger, freight, etc.)?\n",
    "\n",
    "**Q6.** What are the major causes for accidents? Is there any significant difference across different causes? Most of the factors result in derailment of train as we see in news reports, but here we will try to investigate the cause for these derailments. Whether it is human error, natural cause or technical glitch.\n",
    "\n",
    "\n",
    "\n",
    "We have 6 features in our data which will help in answering these questions. First we will see the distribution of accident count based on each feature and then will include more features to better understand the trends.\n",
    "\n",
    "We have 6 features on which we can categorise our analysis:\n",
    "\n",
    "* [Region](#reg)\n",
    "* [Daytime](#dayt)\n",
    "* [Cause](#cz)\n",
    "* [Environment](#env)\n",
    "* [Season](#season)\n",
    "* [Train type](#t_type)\n",
    "\n",
    "<a id='reg'></a>\n",
    "### 7.1. Region"
   ]
  },
  {
   "cell_type": "code",
   "execution_count": 125,
   "metadata": {},
   "outputs": [
    {
     "data": {
      "image/png": "[encoded data removed]",
      "text/plain": [
       "<Figure size 864x432 with 1 Axes>"
      ]
     },
     "metadata": {},
     "output_type": "display_data"
    }
   ],
   "source": [
    "plt.xlabel(\"Railway division\")\n",
    "plt.ylabel(\"Accident count\")\n",
    "df['railway_division'].value_counts().plot(kind='bar');"
   ]
  },
  {
   "cell_type": "markdown",
   "metadata": {},
   "source": [
    "The distribution based on railway division shows peaks at regions which are more general (say larger in area), like if we consider **n, nc, ne, nef** and **nw** then they collectively represent accidents that occur in North India. Some of the accidents are hard to categorize based on such granular distinction.\n",
    "\n",
    "To tackle this problem, we will see accidents in different parts of India, i.e., North, East, West, South and Central to classify them more clearly with less overlapping regions."
   ]
  },
  {
   "cell_type": "code",
   "execution_count": 126,
   "metadata": {},
   "outputs": [
    {
     "data": {
      "image/png": "[encoded data removed]",
      "text/plain": [
       "<Figure size 864x432 with 1 Axes>"
      ]
     },
     "metadata": {},
     "output_type": "display_data"
    }
   ],
   "source": [
    "plt.xlabel(\"Country region\")\n",
    "plt.ylabel(\"Accident count\")\n",
    "df['region'].value_counts().plot(kind='bar');"
   ]
  },
  {
   "cell_type": "markdown",
   "metadata": {},
   "source": [
    "Accident count in South is almost half of that in North region. In North region, the state which contributed largest to the accident count is U.P.. Accidents in U.P. are so frequent that there is an entire Wikipedia article on it[4].\n",
    "\n",
    "<a id='dayt'></a>\n",
    "### 7.2. Daytime\n",
    "\n",
    "Another column which has many levels is **hour** column.\n",
    "\n",
    "Let us see the trends based on hour and then we will use **daytime** column for considering visibility effect on accidents."
   ]
  },
  {
   "cell_type": "code",
   "execution_count": 127,
   "metadata": {},
   "outputs": [
    {
     "data": {
      "image/png": "[encoded data removed]",
      "text/plain": [
       "<Figure size 864x432 with 1 Axes>"
      ]
     },
     "metadata": {},
     "output_type": "display_data"
    }
   ],
   "source": [
    "plt.xlabel(\"Hour of day\")\n",
    "plt.ylabel(\"Accident count\")\n",
    "df['hour'].value_counts().plot(kind='bar');"
   ]
  },
  {
   "cell_type": "markdown",
   "metadata": {},
   "source": [
    "This graph shows that most of the accidents take place when there is low visibility, i.e. night time or wee hours. We will not go deep into exact hour at which accident took place because the sources which provided this information gave an estimate of accident timings. That is why 10:00 hrs and 15:00 hrs have no count. Some accidents took place around evening so we put them in 17-18 hrs range, and similar is the case for 10:00 hrs. We are not interested in exact time of accident, for this purpose we have created **daytime** column previously to compare trends which shows effect of visibility based on hour of accident."
   ]
  },
  {
   "cell_type": "code",
   "execution_count": 128,
   "metadata": {},
   "outputs": [
    {
     "data": {
      "image/png": "[encoded data removed]",
      "text/plain": [
       "<Figure size 864x432 with 1 Axes>"
      ]
     },
     "metadata": {},
     "output_type": "display_data"
    }
   ],
   "source": [
    "plt.xlabel(\"Daytime\")\n",
    "plt.ylabel(\"Accident count\")\n",
    "df['daytime'].value_counts().plot(kind='bar');"
   ]
  },
  {
   "cell_type": "markdown",
   "metadata": {},
   "source": [
    "12:00 to 18:00 hours is the time when less accidents happen. Visibility factor can be inferred from this relation. Accidents are more likely to occur when there is low visibility. Most of the accidents occur during night time, as seen from the data. Day time has also considerable amount of acccidents but on the basis of visibility criteria it is almost half compared to night time. Increasing security during night time can help in preventing these mishaps."
   ]
  },
  {
   "cell_type": "code",
   "execution_count": 129,
   "metadata": {},
   "outputs": [
    {
     "data": {
      "image/png": "[encoded data removed]",
      "text/plain": [
       "<Figure size 864x432 with 1 Axes>"
      ]
     },
     "metadata": {},
     "output_type": "display_data"
    }
   ],
   "source": [
    "plt.xlabel(\"Daytime\")\n",
    "plt.ylabel(\"Accident count\")\n",
    "sns.countplot(x = 'daytime', hue = 'season', data = df)\n",
    "plt.legend(title = 'season');"
   ]
  },
  {
   "cell_type": "markdown",
   "metadata": {},
   "source": [
    "Daytime has second largest number of accidents because of accidents in day in winter season.\n",
    "\n",
    "<a id='cz'></a>\n",
    "### 7.3. Cause"
   ]
  },
  {
   "cell_type": "code",
   "execution_count": 130,
   "metadata": {},
   "outputs": [
    {
     "data": {
      "image/png": "[encoded data removed]",
      "text/plain": [
       "<Figure size 864x432 with 1 Axes>"
      ]
     },
     "metadata": {},
     "output_type": "display_data"
    }
   ],
   "source": [
    "plt.xlabel(\"Cause\")\n",
    "plt.ylabel(\"Accident count\")\n",
    "df['cause'].value_counts().plot(kind='bar');"
   ]
  },
  {
   "cell_type": "markdown",
   "metadata": {},
   "source": [
    "Let us see what each value on x-axis stands for:\n",
    "\n",
    "* **attack**: this includes all external forces like:\n",
    "\n",
    "    + bombing by terrorists;\n",
    "    + attack by local people;\n",
    "    + sabotage;\n",
    "    + one case is of hijack[5].\n",
    "\n",
    "* **fire**: fire caught inside train led to few accidents. This is the least frequent cause of accident because it was caused when passengers unintentionally carried some inflammable item with them. Electrical short circuits also caused fire.\n",
    "\n",
    "* **human error**: this includes human negligence at large scale. This includes:\n",
    "\n",
    "    + improper signalling\n",
    "    + speeding by driver\n",
    "    + unmanned level crossing\n",
    "    + negligence about train timings on level-crossing\n",
    "    + one incident includes people watching sample fireworks while standing on railway track\n",
    "\n",
    "* **natural**: these are beyond one's control. Natural causes are:\n",
    "\n",
    "    + heavy rain\n",
    "    + flash flood\n",
    "    + dense fog\n",
    "\n",
    "* **technical**: this includes malfunctioning of railway system:\n",
    "\n",
    "    + no prior alert for driver to stop;\n",
    "    + poor maintenance of track;\n",
    "    + some tracks are pending for reconstruction[7];\n",
    "    + brake fail;\n",
    "    + no alert about poor tracks ahead.\n",
    "\n",
    "* **unclear track**: technically this should also come under **technical** cause but track was occupied in many cases so we are considering it as a separate factor:\n",
    "\n",
    "    + boulders on track\n",
    "    + some vehicle was already on track(includes trains and roadways vehicles)\n",
    "    + some roadways vehicle stuck on track\n",
    "\n",
    "Mostly human error is reponsible for train accidents because they are in some way directly related to the short-comings in system. Mistakes like improper signalling, poor maintenance of track are very sensitive areas when it comes to railway security. In some cases train driver overshot the red signal. These mistakes should not be tolerated at such large scale. Speeding can be easily avoided if there is proper timing for crossings and loop-line entry.\n",
    "\n",
    "<a id='env'></a>\n",
    "### 7.4. Environment"
   ]
  },
  {
   "cell_type": "code",
   "execution_count": 131,
   "metadata": {},
   "outputs": [
    {
     "data": {
      "image/png": "[encoded data removed]",
      "text/plain": [
       "<Figure size 864x432 with 1 Axes>"
      ]
     },
     "metadata": {},
     "output_type": "display_data"
    }
   ],
   "source": [
    "plt.xlabel(\"Environment of Accident Spot\")\n",
    "plt.ylabel(\"Accident count\")\n",
    "df['env'].value_counts().plot(kind='bar');"
   ]
  },
  {
   "cell_type": "markdown",
   "metadata": {},
   "source": [
    "There is no perfect conclusion from this graph but if we see the environment which has most number of accidents then open area, busy track, and parallel track have high frequency of accident in the last 16 years. \n",
    "\n",
    "Let us see what these features mean:\n",
    "\n",
    "* Open area:\n",
    "\n",
    "This includes tracks which were away from residential areas and surrounded by non-agricultural land. \n",
    "\n",
    "* Busy track:\n",
    "\n",
    "It includes all the cases when the track was occupied, whether it is roadways vehicle, obstacle, another train, and humans.\n",
    "\n",
    "* Parallel tracks:\n",
    "\n",
    "More than one track on the route.\n",
    "\n",
    "Possible reasons why there are more accident can be seen if we include the daytime factor:"
   ]
  },
  {
   "cell_type": "code",
   "execution_count": 132,
   "metadata": {},
   "outputs": [
    {
     "data": {
      "image/png": "[encoded data removed]",
      "text/plain": [
       "<Figure size 864x432 with 1 Axes>"
      ]
     },
     "metadata": {},
     "output_type": "display_data"
    }
   ],
   "source": [
    "plt.xlabel(\"Environment of Accident Spot\")\n",
    "plt.ylabel(\"Accident count\")\n",
    "sns.countplot(x = 'env', hue = 'daytime', data = df);\n",
    "plt.legend(title = 'hour');"
   ]
  },
  {
   "cell_type": "markdown",
   "metadata": {},
   "source": [
    "We can clearly see that visibility is a key factor here. Such a large peak for night time in every environment shows how frequently accidents occur in low light. More on this in **season** section.\n",
    "\n",
    "Let us perform a Chi-squared test of dependence for **environment and daytime**:"
   ]
  },
  {
   "cell_type": "code",
   "execution_count": 133,
   "metadata": {},
   "outputs": [
    {
     "data": {
      "text/plain": [
       "0.33486050334080486"
      ]
     },
     "execution_count": 133,
     "metadata": {},
     "output_type": "execute_result"
    }
   ],
   "source": [
    "chi2, p1, dof, expected = chi2_contingency(pd.crosstab(df.env, df.daytime))\n",
    "p1/2"
   ]
  },
  {
   "cell_type": "markdown",
   "metadata": {},
   "source": [
    "As the p-value is greater than the significance level 0.01, we do not reject the null hypothesis that the environment of accident is independent of daytime. We are not taking significance level of 0.05.\n",
    "\n",
    "<a id='season'></a>\n",
    "### 7.5. Season"
   ]
  },
  {
   "cell_type": "code",
   "execution_count": 134,
   "metadata": {},
   "outputs": [
    {
     "data": {
      "image/png": "[encoded data removed]",
      "text/plain": [
       "<Figure size 864x432 with 1 Axes>"
      ]
     },
     "metadata": {},
     "output_type": "display_data"
    }
   ],
   "source": [
    "plt.xlabel(\"Season\")\n",
    "plt.ylabel(\"Accident count\")\n",
    "df['season'].value_counts().plot(kind='bar');"
   ]
  },
  {
   "cell_type": "markdown",
   "metadata": {},
   "source": [
    "These peaks do not directly convey the number of accidents in each season because every season has different time-span. Autumn lasts for shortest period and so count is also less for it. We can include more features in this plot to generalise our idea."
   ]
  },
  {
   "cell_type": "code",
   "execution_count": 135,
   "metadata": {},
   "outputs": [
    {
     "data": {
      "image/png": "[encoded data removed]",
      "text/plain": [
       "<Figure size 864x432 with 1 Axes>"
      ]
     },
     "metadata": {},
     "output_type": "display_data"
    }
   ],
   "source": [
    "plt.xlabel(\"Season\")\n",
    "plt.ylabel(\"Accident count\")\n",
    "sns.countplot(x = 'season', hue = 'daytime', data = df);\n",
    "plt.legend(title = 'hour');"
   ]
  },
  {
   "cell_type": "markdown",
   "metadata": {},
   "source": [
    "Now let us perform Chi-squared test of dependence for **season and daytime**:"
   ]
  },
  {
   "cell_type": "code",
   "execution_count": 136,
   "metadata": {},
   "outputs": [
    {
     "data": {
      "text/plain": [
       "0.1532142925606064"
      ]
     },
     "execution_count": 136,
     "metadata": {},
     "output_type": "execute_result"
    }
   ],
   "source": [
    "chi2, p2, dof, expected = chi2_contingency(pd.crosstab(df.season, df.daytime))\n",
    "p2/2"
   ]
  },
  {
   "cell_type": "code",
   "execution_count": 137,
   "metadata": {},
   "outputs": [
    {
     "data": {
      "text/plain": [
       "54.245337675828466"
      ]
     },
     "execution_count": 137,
     "metadata": {},
     "output_type": "execute_result"
    }
   ],
   "source": [
    "100*((p1/2) - (p2/2))/(p1/2)"
   ]
  },
  {
   "cell_type": "markdown",
   "metadata": {},
   "source": [
    "As the p-value here is also greater than the 0.01 significance level, we do not reject the null hypothesis that season and daytime are independent. But, if we compare it with environment-daytime pair, p-value for season-daytime is 52.82% less than that of environment-daytime pair. This does mean that season-daytime pair are more close to being interdependent pair(or say correlated pair) than environment-daytime pair. \n",
    "\n",
    "Reflect back on the environment criteria and daytime criteria. Visibility played a major role there for causing accidents.\n",
    "\n",
    "Here, each season is affected during night time. In winter, however, accidents are still frequent during morning time due to dense fog. In winter, accidents are more in morning than in night time because precautions are taken during night time to avoid accidents due to fog. Though in daytime, some cases are there when dense fog causes visibility problems resulting in accidents."
   ]
  },
  {
   "cell_type": "code",
   "execution_count": 138,
   "metadata": {},
   "outputs": [
    {
     "data": {
      "image/png": "[encoded data removed]",
      "text/plain": [
       "<Figure size 864x432 with 1 Axes>"
      ]
     },
     "metadata": {},
     "output_type": "display_data"
    }
   ],
   "source": [
    "plt.xlabel(\"Season\")\n",
    "plt.ylabel(\"Accident count\")\n",
    "sns.countplot(x = 'season', hue = 'region', data = df);\n",
    "plt.legend(title='region');"
   ]
  },
  {
   "cell_type": "markdown",
   "metadata": {},
   "source": [
    "Let us see perform Chi-squared test of dependence for season and region:"
   ]
  },
  {
   "cell_type": "code",
   "execution_count": 139,
   "metadata": {},
   "outputs": [
    {
     "data": {
      "text/plain": [
       "0.10368750836521881"
      ]
     },
     "execution_count": 139,
     "metadata": {},
     "output_type": "execute_result"
    }
   ],
   "source": [
    "chi2, p3, dof, expected = chi2_contingency(pd.crosstab(df.season, df.region))\n",
    "p3/2"
   ]
  },
  {
   "cell_type": "markdown",
   "metadata": {},
   "source": [
    "As the p-value for this pair is 0.11 which is higher than the significance level 0.01, we cannot reject the null hypothesis that these two variable are independent of each other.\n",
    "\n",
    "In South, accidents are more common in summer because of hot climate there. North, on the other hand, has harsh climatic conditions here which is a more severe cause than tropical Southern India. Dense fog in winter affects the timing of train.\n",
    "\n",
    "Overall, winter sees most number of accidents, reason is decrease in visibility due to dense fog.\n",
    "\n",
    "<a id='t_type'></a>\n",
    "### 7.6. Train type"
   ]
  },
  {
   "cell_type": "code",
   "execution_count": 140,
   "metadata": {},
   "outputs": [
    {
     "data": {
      "image/png": "[encoded data removed]",
      "text/plain": [
       "<Figure size 864x432 with 1 Axes>"
      ]
     },
     "metadata": {},
     "output_type": "display_data"
    }
   ],
   "source": [
    "plt.xlabel(\"Type of Train\")\n",
    "plt.ylabel(\"Accident count\")\n",
    "df['train_type'].value_counts().plot(kind='bar');"
   ]
  },
  {
   "cell_type": "markdown",
   "metadata": {},
   "source": [
    "This observation is as expected. Major causes are violation of signals and speeding.\n",
    "\n",
    "Compared to other trains, it is difficult for express and freight trains to lower their speed when they see obstacles in their way. Obstacles can be like:\n",
    "\n",
    "* boulders on track;\n",
    "\n",
    "* some vehicle on track; and\n",
    "\n",
    "* unexpected engagement of roadways vehicle on level-crossing."
   ]
  },
  {
   "cell_type": "code",
   "execution_count": 141,
   "metadata": {},
   "outputs": [
    {
     "data": {
      "image/png": "[encoded data removed]",
      "text/plain": [
       "<Figure size 864x432 with 1 Axes>"
      ]
     },
     "metadata": {},
     "output_type": "display_data"
    }
   ],
   "source": [
    "plt.xlabel(\"Type of Train\")\n",
    "plt.ylabel(\"Accident count\")\n",
    "sns.countplot(x = 'train_type', hue = 'region', data = df);\n",
    "plt.legend(title='region');"
   ]
  },
  {
   "cell_type": "markdown",
   "metadata": {},
   "source": [
    "Let us perform Chi-squared test of dependence for train type and region:"
   ]
  },
  {
   "cell_type": "code",
   "execution_count": 142,
   "metadata": {},
   "outputs": [
    {
     "data": {
      "text/plain": [
       "0.22840641590284233"
      ]
     },
     "execution_count": 142,
     "metadata": {},
     "output_type": "execute_result"
    }
   ],
   "source": [
    "chi2, p4, dof, expected = chi2_contingency(pd.crosstab(df.train_type, df.region))\n",
    "p4/2"
   ]
  },
  {
   "cell_type": "markdown",
   "metadata": {},
   "source": [
    "No strong relation between train type and region of accident. A p-value of 0.161 means that we cannot reject the null hypothesis that season and train types are independent of each other. We can conclude from this statistic that there is no specific part of India where one type of train is running more frequently. \n",
    "\n",
    "2 accidents occurred where passenger were sitting on the top of train. This is the result of **dense population** and in order to accommodate facility for increasing population, new railway tracks are laid wherever necessary[8].\n",
    "\n",
    "On the other side, it is important to maintain the track also. As of 2014 statistics, 5300 km of track was due for renewal[8]. This target keeps increasing if laying of new tracks and maintenance of old tracks are not balanced."
   ]
  },
  {
   "cell_type": "code",
   "execution_count": 143,
   "metadata": {},
   "outputs": [
    {
     "data": {
      "image/png": "[encoded data removed]",
      "text/plain": [
       "<Figure size 864x432 with 1 Axes>"
      ]
     },
     "metadata": {},
     "output_type": "display_data"
    }
   ],
   "source": [
    "plt.xlabel(\"Type of Train\")\n",
    "plt.ylabel(\"Accident count\")\n",
    "sns.countplot(x = 'train_type', hue = 'cause', data = df);\n",
    "plt.legend(title = 'cause');"
   ]
  },
  {
   "cell_type": "markdown",
   "metadata": {},
   "source": [
    "Let us perform Chi-squared test of dependence for train type and cause of accident:"
   ]
  },
  {
   "cell_type": "code",
   "execution_count": 144,
   "metadata": {},
   "outputs": [
    {
     "data": {
      "text/plain": [
       "0.22840641590284233"
      ]
     },
     "execution_count": 144,
     "metadata": {},
     "output_type": "execute_result"
    }
   ],
   "source": [
    "chi2, p5, dof, expected = chi2_contingency(pd.crosstab(df.train_type, df.region))\n",
    "p5/2"
   ]
  },
  {
   "cell_type": "code",
   "execution_count": 145,
   "metadata": {},
   "outputs": [
    {
     "data": {
      "text/plain": [
       "Express      76\n",
       "others       12\n",
       "Passenger    12\n",
       "Freight      10\n",
       "Mail          4\n",
       "Name: train_type, dtype: int64"
      ]
     },
     "execution_count": 145,
     "metadata": {},
     "output_type": "execute_result"
    }
   ],
   "source": [
    "df.train_type.value_counts()"
   ]
  },
  {
   "cell_type": "markdown",
   "metadata": {},
   "source": [
    "As the p-value is still higher than 0.01 significance level, but if we relax the significance level criteria to 0.1 then we can conclude to some extent that cause and train type are related with each other. But 0.1 level of significance is very high. Chance of accident is high if we are testing for express trains.\n",
    "\n",
    "High green peaks show that human error is most responsible for almost every type of train accident. Driver's mistake comes under this case but there is no right way to avoid accidents cause by driver's mistake. Some ways can be deploying experienced drivers, changing drivers on shift-basis for long journey trains, checking physical fitness of driver, etc.\n",
    "\n",
    "Next are technical and external attacks. Attacks on railway system has decreased in recent years but this attack factor counts for sabotage cases also. Technical fault was for speeding and improper signalling, that's why technical error is largest for express trains. Drivers get signals late, some times they are unable to receive signal at right time. Accidents caused by unclear tracks can be avoided by providing information about bad track at right time. People should follow rules when they are near level crossing.\n",
    "\n",
    "<a id='ans'></a>\n",
    "## 8. Answers\n",
    "\n",
    "**Q1.** On which time of day more accidents are happening? Does visibility play a major role in accidents?\n",
    "\n",
    "**A1.**"
   ]
  },
  {
   "cell_type": "code",
   "execution_count": 146,
   "metadata": {},
   "outputs": [
    {
     "data": {
      "text/plain": [
       "(0, 6]      47\n",
       "(6, 12]     26\n",
       "(18, 24]    25\n",
       "(12, 18]    14\n",
       "nan          2\n",
       "Name: daytime, dtype: int64"
      ]
     },
     "execution_count": 146,
     "metadata": {},
     "output_type": "execute_result"
    }
   ],
   "source": [
    "df.daytime.value_counts()"
   ]
  },
  {
   "cell_type": "markdown",
   "metadata": {},
   "source": [
    "Accidents are more during night time. Out of 114 observations, accidents in night time (49 + 25 = 74) are greater than that in daytime ( = 40). They can be prevented by avoid speeding at night time. \n",
    "\n",
    "To increase efficiency and to enhance safety in train operations, Advanced Signaling System with Panel/Route Relay/Electronic Interlocking (PI/RRI/EI) along with Multi Aspect Colour Light Signals have been progressively provided at 5,317 stations i.e. about 85% of Broad Gauge stations of Indian Railways, replacing outdated Multi Cabin Mechanical Signaling system involving a large number of human interfaces. Route\n",
    "Relay Interlocking/Electronic Interlocking at 8 major stations namely Barddhaman, Firozpur, Jakhal, Tambaram, Nagda, Gomoh, Agra Cant & Chheoki have been provided during the year 2014-15[12]. \n",
    "\n",
    "**Q2.** In which season accidents are more frequent?\n",
    "\n",
    "**A2.**"
   ]
  },
  {
   "cell_type": "code",
   "execution_count": 147,
   "metadata": {},
   "outputs": [
    {
     "data": {
      "text/plain": [
       "winter     39\n",
       "summer     29\n",
       "monsoon    27\n",
       "autumn     19\n",
       "Name: season, dtype: int64"
      ]
     },
     "execution_count": 147,
     "metadata": {},
     "output_type": "execute_result"
    }
   ],
   "source": [
    "df.season.value_counts()"
   ]
  },
  {
   "cell_type": "markdown",
   "metadata": {},
   "source": [
    "Accidents are more frequent in winter season, followed by monsoon. The reason is climatic condition. Heavy rain in monsoon wets railway track, flash floods disrupt train route, dense fog affects movement of train. \n",
    "\n",
    "Indian Railways is developing an effective accident prevention system to help save lives and increase the efficiency of its service. The fleet of locomotives will be equipped with a 'third eye' to avert train collisions, derailment and accidents on unmanned railway crossings. The technology involves a radar-based device that alerts drivers to any physical obstructions on railway tracks ahead, preventing accidents and breakdowns. This will prove to be more useful at night and in foggy conditions when drivers have to constantly look outside the locomotive to assess weather conditions[13].\n",
    "\n",
    "The system called 'Terrain Imaging for Diesel Drivers - Infra-red Enhanced Optical and radar assisted' (Tri-netra) has been developed for India by foreign agencies[13].\n",
    "\n",
    "**Q3.** Which region of the country has experienced more accidents?\n",
    "\n",
    "**A3.**"
   ]
  },
  {
   "cell_type": "code",
   "execution_count": 148,
   "metadata": {},
   "outputs": [
    {
     "data": {
      "text/plain": [
       "North      52\n",
       "South      28\n",
       "East       15\n",
       "Central    10\n",
       "West        9\n",
       "Name: region, dtype: int64"
      ]
     },
     "execution_count": 148,
     "metadata": {},
     "output_type": "execute_result"
    }
   ],
   "source": [
    "df.region.value_counts()"
   ]
  },
  {
   "cell_type": "markdown",
   "metadata": {},
   "source": [
    "Northern region has experienced more accidents. This is due to high population density in northern states. As of 2011 Census of India, U.P. alone contributes to 16.5 % of nation's population[9]. Higher population density means more number of railway tracks for accommodation.\n",
    "\n",
    "**Q4.** What is the environment of accident spot (like open area, flood affected area or bad track?\n",
    "\n",
    "**A4.**"
   ]
  },
  {
   "cell_type": "code",
   "execution_count": 149,
   "metadata": {},
   "outputs": [
    {
     "data": {
      "text/plain": [
       "open               42\n",
       "busy               31\n",
       "parallel tracks    18\n",
       "natural             5\n",
       "station             5\n",
       "water               4\n",
       "bad track           3\n",
       "trees               3\n",
       "others              2\n",
       "loop line           1\n",
       "Name: env, dtype: int64"
      ]
     },
     "execution_count": 149,
     "metadata": {},
     "output_type": "execute_result"
    }
   ],
   "source": [
    "df.env.value_counts()"
   ]
  },
  {
   "cell_type": "markdown",
   "metadata": {},
   "source": [
    "Open area includes tracks away from agricultural field and residential areas. Accidents are frequent in opens area because there is only one track and fast moving train collides before even changing track or slowing down. \n",
    "\n",
    "It has been decided to progressively eliminate all unmanned level crossings by (i) closing unmanned crossings having NIL/negligible Train Vehicle Units (TVUs), (ii) merger of unmanned level crossing with nearby unmanned/manned gates or Road Under Bridge or Road Over Bridge or Subway by construction of diversion road, (iii) provision of Subways/Road Under Bridges. The Unmanned Level Crossings which cannot be eliminated by the above means will be progressively manned based on the volume of rail road traffic (TVU) and visibility conditions[14].\n",
    "\n",
    "**Q5.** Which type of trains suffer more accidents(express, passenger, freight, etc.)?\n",
    "\n",
    "**A5.**"
   ]
  },
  {
   "cell_type": "code",
   "execution_count": 150,
   "metadata": {},
   "outputs": [
    {
     "data": {
      "text/plain": [
       "Express      76\n",
       "others       12\n",
       "Passenger    12\n",
       "Freight      10\n",
       "Mail          4\n",
       "Name: train_type, dtype: int64"
      ]
     },
     "execution_count": 150,
     "metadata": {},
     "output_type": "execute_result"
    }
   ],
   "source": [
    "df.train_type.value_counts()"
   ]
  },
  {
   "cell_type": "markdown",
   "metadata": {},
   "source": [
    "Express trains suffer more accident because of speeding and signal overshooting. Derailment occurs when taking sharp turn at high speed[10]. Many cases include binary collision of express train with other express/passenger train. Passenger train is usually running at low speed when collision takes place. It is the express train which rams into it[11].\n",
    "\n",
    "Technological aids of Automatic Train Protection System to\n",
    "loco pilots to avoid collisions due to Signal Passing at Danger (SPAD)\n",
    "or over speeding have been put on trial on Indian Railways[12].\n",
    "\n",
    "Train Protection and Warning System (TPWS) is a proven Automatic Train Protection System to avoid train accidents on account of human error of Signal Passing at Danger (SPAD) or over-speeding. As a pilot project, TPWS has been provided on Chennai-Gummidipundi Suburban Section of Southern Railway, Hazrat Nizamuddin - Agra Section of Northern/North Central Railway and Dum Dum-Kavi Subhash section of Kolkata Metro[14]."
   ]
  },
  {
   "cell_type": "markdown",
   "metadata": {},
   "source": [
    "<a id='conc'></a>\n",
    "## 9. Conclusion\n",
    "\n",
    "From the data of 16 years, it is clear that some causes can be prevented and some can't. Natural causes are very rare in causing accidents. Every year train accidents take place and exact cause of accident is not known in many cases. If the investigation of accidents are carried out in more depth then improvements can be made effectively. Accidents happening inside train, like fire, are less nowadays. Human negligence is major cause and will remain the cause in future if no special attention is given by train drivers, roadways riders, people crossing tracks, vehicles crossing tracks, etc. \n",
    "\n",
    "There are some limitations of this data:\n",
    "\n",
    "* it was not possible to account for each accident because of very brief report of some incidents on news websites\n",
    "\n",
    "* this report does not address solution for external attacks\n",
    "\n",
    "* condition (old or newly launched) of trains is not known\n",
    "\n",
    "* this report addresses accident counts over years 2002-2017. It does not analyse trends in casualties because we wanted to prevent them directly by knowing the cause of accidents.\n",
    "\n",
    "<a id='abb'></a>\n",
    "## 10. Abbreviations used\n",
    "\n",
    "* c: Central Railway Zone\n",
    "* e: Eastern Railway Zone\n",
    "* ec: East Central Railway Zone\n",
    "* eco: East Coast Railway Zone\n",
    "* k: Konkan Railway Zone\n",
    "* n: Northern Railway Zone\n",
    "* nc: North Central Railway Zone\n",
    "* ne: North Eastern Railway Zone\n",
    "* nef: North East Frontier Railway Zone\n",
    "* nw: North Western Railway Zone\n",
    "* s: Southern Railway Zone\n",
    "* sc: South Central Railway Zone\n",
    "* se: South Eastern Railway Zone\n",
    "* sw: South Western Railway Zone\n",
    "* w: Western Railway Zone\n",
    "* wc: West Central Railway Zone\n",
    "\n",
    "<a id='refs'></a>\n",
    "\n",
    "## 11. References\n",
    "\n",
    "1. [List of Indian rail accidents](https://en.wikipedia.org/wiki/List_of_Indian_rail_accidents)\n",
    "\n",
    "2. [586 train accidents in last 5 years](https://timesofindia.indiatimes.com/india/586-train-accidents-in-last-5-years-53-due-to-derailments/articleshow/60141578.cms)\n",
    "\n",
    "3. [Climate of India](https://en.wikipedia.org/wiki/Climate_of_India)\n",
    "\n",
    "4. [List of Uttar Pradesh train accidents](https://en.wikipedia.org/wiki/List_of_Uttar_Pradesh_train_accidents)\n",
    "\n",
    "5. [Hijack leads to train collision, 4 die](http://www.thehindu.com/todays-paper/Hijack-leads-to-train-collision-4-die/article16626772.ece)\n",
    "\n",
    "6. [Three die in train accident](https://timesofindia.indiatimes.com/city/kochi/Three-die-in-train-accident/articleshow/12063072.cms)\n",
    "\n",
    "7. [Railways’ target: Laying 9.5 km of tracks every day](https://economictimes.indiatimes.com/industry/transportation/railways/railways-target-laying-9-5-km-of-tracks-every-day/articleshow/57195430.cms)\n",
    "\n",
    "8. [Indian Railways: Lifeline of the nation](http://www.indianrailways.gov.in/railwayboard/uploads/directorate/finance_budget/Budget_2015-16/White_Paper-_English.pdf)\n",
    "\n",
    "9. [2011 Census of India](https://en.wikipedia.org/wiki/2011_Census_of_India)\n",
    "\n",
    "10. [British tourists killed as India train derails](http://www.bbc.com/news/uk-34232974)\n",
    "\n",
    "11. [India train crash kills 30](http://news.bbc.co.uk/2/hi/south_asia/2025207.stm)\n",
    "\n",
    "12. [INDIAN RAILWAYS ANNUAL REPORT AND ACCOUNTS 2014-15](http://www.indianrailways.gov.in/railwayboard/uploads/directorate/stat_econ/IRSP_2014-15/IR_Annual_Report%20%26%20Accounts_2014-15/11.pdf)\n",
    "\n",
    "13. [Indian Railways to use radar-based 'third eye' device to warn drivers about hazards on the line](http://www.dailymail.co.uk/indiahome/indianews/article-3683522/Indian-Railways-use-radar-based-eye-device-warn-drivers-hazards-line.html)\n",
    "\n",
    "14. [Measures To Prevent Railway Accidents](http://pib.nic.in/newsite/PrintRelease.aspx?relid=155175)"
   ]
  }
 ],
 "metadata": {
  "hide_input": false,
  "kernelspec": {
   "display_name": "Python 3",
   "language": "python",
   "name": "python3"
  },
  "nbTranslate": {
   "displayLangs": [
    "*"
   ],
   "hotkey": "alt-t",
   "langInMainMenu": true,
   "sourceLang": "en",
   "targetLang": "fr",
   "useGoogleTranslate": true
  },
  "toc": {
   "base_numbering": 1,
   "nav_menu": {},
   "number_sections": true,
   "sideBar": true,
   "skip_h1_title": false,
   "title_cell": "Table of Contents",
   "title_sidebar": "Contents",
   "toc_cell": false,
   "toc_position": {},
   "toc_section_display": true,
   "toc_window_display": false
  }
 },
 "nbformat": 4,
 "nbformat_minor": 2
}
